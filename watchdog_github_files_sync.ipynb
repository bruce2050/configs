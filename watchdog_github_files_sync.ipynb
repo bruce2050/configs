{
 "cells": [
  {
   "cell_type": "code",
   "execution_count": null,
   "metadata": {
    "collapsed": true
   },
   "outputs": [],
   "source": [
    "watchdog_github_files_sync \n"
   ]
  },
  {
   "cell_type": "markdown",
   "metadata": {},
   "source": [
    "#### 建立远程仓  \n",
    "    登录github.com网站，https://github.com/  或登录个人搭建的私有仓库服务器   "
   ]
  },
  {
   "cell_type": "markdown",
   "metadata": {},
   "source": [
    "####  建立本地仓--初始化--基本配置--添加远程仓库--建立主分支"
   ]
  },
  {
   "cell_type": "code",
   "execution_count": null,
   "metadata": {
    "collapsed": true
   },
   "outputs": [],
   "source": [
    "create a new repository on the command line\n",
    "echo \"# configs\" >> README.md\n",
    "git init\n",
    "git add README.md\n",
    "git commit -m \"first commit\"\n",
    "git remote add origin git@github.com:bruce2050/configs.git\n",
    "git push -u origin master\n",
    "\n",
    "来源： https://github.com/bruce2050/configs\n",
    "\n",
    "git init  初始化本地仓（生成，当前目录下，生成.git命名文件）\n",
    "\n",
    "\n",
    "配置：注册邮箱和登录用户\n",
    "[root@acheng_host configs]# git config --global user.email \"269244395@qq.com\"\n",
    "[root@acheng_host configs]# git config --global user.name \"bruce2050\"\n",
    "\n",
    "添加远程库\n",
    "\n",
    "首次：\n",
    "git remote add origin git@github.com:michaelliao/learngit.git\n",
    "                          仓名                           :用户名 /  当前目录名.git  \n",
    "\n",
    "创建主分支\n",
    "git push -u origin master\n",
    "\n",
    "         本地仓库，远程仓，主分支建立好后，在本地仓库的增删改都会被记录：\n",
    "\n",
    "         1、自动实时监控和同步 ：启动wathdog，指定监控某文件，有变动则自动同步本地、远程仓库\n",
    "         2、常规使用，git的命令"
   ]
  },
  {
   "cell_type": "markdown",
   "metadata": {
    "collapsed": true
   },
   "source": [
    "#### 配置自动监控某文件\n",
    "\n",
    "    在本地仓库下建立2个文件： \n",
    "\n",
    "    file_sync/file_sync.py  给执行权限\n",
    "\n",
    "    file_list.txt  写入需要监控的文件，绝对路径，不一定在仓库目录下，其他目录下的可以，监控后自动加到仓库目录下"
   ]
  },
  {
   "cell_type": "code",
   "execution_count": null,
   "metadata": {
    "collapsed": true
   },
   "outputs": [],
   "source": [
    "#!/usr/bin/python\n",
    "\n",
    "import sys\n",
    "import time\n",
    "import ntpath\n",
    "import os\n",
    "import re\n",
    "import platform\n",
    "\n",
    "from subprocess import call\n",
    "from shutil import copy\n",
    "from watchdog.observers import Observer\n",
    "from watchdog.events import FileSystemEventHandler\n",
    "\n",
    "# git root path for files to push to remote\n",
    "DIR_FOR_GIT = os.path.dirname(os.path.dirname(os.path.abspath(__file__)))\n",
    "\n",
    "# files to synchronize\n",
    "SYNC_FILE_LIST = []\n",
    "f = open(os.path.join(DIR_FOR_GIT, \"file_list.txt\"), \"r\")\n",
    "try:\n",
    "    SYNC_FILE_LIST = [line.strip() for line in f]\n",
    "except Exception as e:\n",
    "    raise e\n",
    "finally:\n",
    "    f.close()\n",
    "\n",
    "# get filename without upper directory\n",
    "def path_leaf(path):\n",
    "    head, tail = ntpath.split(path)\n",
    "    return tail or ntpath.basename(head)\n",
    "class FileChangeHandler(FileSystemEventHandler):\n",
    "    def on_modified(self, event):\n",
    "        if event.src_path in SYNC_FILE_LIST:\n",
    "            copy(event.src_path, DIR_FOR_GIT)\n",
    "            cd_cmd = \"cd \"+DIR_FOR_GIT\n",
    "            git_add_cmd = \"git add -A\"\n",
    "            git_commit_cmd = \"git commit -m \" + re.escape(\"Update \"+path_leaf(event.src_path))\n",
    "            if platform.system() == \"Windows\":\n",
    "                git_commit_cmd = \"git commit -m \" + re.escape(\"Update_\"+path_leaf(event.src_path))\n",
    "            git_pull_cmd = \"git pull origin master\"\n",
    "            git_push_cmd = \"git push origin master\"\n",
    "            call(\n",
    "                cd_cmd + \"&&\" +\n",
    "                git_add_cmd + \"&&\" +\n",
    "                git_commit_cmd + \"&&\" +\n",
    "                git_pull_cmd + \"&&\" +\n",
    "                git_push_cmd,\n",
    "                shell=True\n",
    "            )\n",
    "\n",
    "if __name__ == \"__main__\":\n",
    "    observer = Observer()\n",
    "    event_handler = FileChangeHandler()\n",
    "\n",
    "    for file_path in SYNC_FILE_LIST:\n",
    "        copy(file_path, DIR_FOR_GIT)\n",
    "        observer.schedule(event_handler, path=os.path.dirname(os.path.realpath(file_path)), recursive=False)\n",
    "\n",
    "\n",
    "    observer.start()\n",
    "\n",
    "    try:\n",
    "        while True:\n",
    "            time.sleep(10)\n",
    "    except KeyboardInterrupt:\n",
    "        observer.stop()\n",
    "    observer.join()\n",
    "              "
   ]
  },
  {
   "cell_type": "code",
   "execution_count": 1,
   "metadata": {
    "collapsed": false
   },
   "outputs": [
    {
     "name": "stdout",
     "output_type": "stream",
     "text": [
      "/root/python3.5.2/py3\r\n"
     ]
    }
   ],
   "source": [
    "!pwd  #  确保路径正确，命正确，然后写入file_list.txt，多分多行写多个文件"
   ]
  },
  {
   "cell_type": "markdown",
   "metadata": {
    "collapsed": true
   },
   "source": [
    "#### 使用说明\n",
    "\n",
    "    启动file_sync/file_sync.py后，会自动监控文件列表中的文件变化，自动同步远程、本地仓库\n",
    "    如果中途关闭后，重新启动，文件变化不会给马上监控到"
   ]
  }
 ],
 "metadata": {
  "kernelspec": {
   "display_name": "Python 3",
   "language": "python",
   "name": "python3"
  },
  "language_info": {
   "codemirror_mode": {
    "name": "ipython",
    "version": 3
   },
   "file_extension": ".py",
   "mimetype": "text/x-python",
   "name": "python",
   "nbconvert_exporter": "python",
   "pygments_lexer": "ipython3",
   "version": "3.5.2"
  }
 },
 "nbformat": 4,
 "nbformat_minor": 2
}
