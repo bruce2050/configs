{
 "cells": [
  {
   "cell_type": "code",
   "execution_count": null,
   "metadata": {
    "collapsed": true
   },
   "outputs": [],
   "source": [
    "建立远程仓  https://github.com/   \n",
    "\n",
    "or create a new repository on the command line\n",
    "\n",
    "echo \"# configs\" >> README.md\n",
    "git init\n",
    "git add README.md\n",
    "git commit -m \"first commit\"\n",
    "git remote add origin git@github.com:bruce2050/configs.git\n",
    "git push -u origin master\n",
    "来源： https://github.com/bruce2050/configs\n",
    "\n",
    "按上面提示建立本地仓\n",
    "\n",
    "\n",
    "git init  初始化本地仓（生成，当前目录下，生成.git命名文件）\n",
    "\n",
    "\n",
    "配置：注册邮箱和登录用户\n",
    "[root@acheng_host configs]# git config --global user.email \"269244395@qq.com\"\n",
    "[root@acheng_host configs]# git config --global user.name \"bruce2050\"\n",
    "\n",
    "添加远程库\n",
    "\n",
    "首次：\n",
    "git remote add origin git@github.com:michaelliao/learngit.git\n",
    "                          仓名                           :用户名 /  当前目录名.git  \n",
    "\n",
    "创建主分支\n",
    "git push -u origin master\n",
    "\n",
    "本地仓库，远程仓，主分支建立好后，在本地仓库的增删改都会被记录，可以手动或自动同步。\n",
    "\n",
    "        1、自动实时监控和同步 ：启动wathdog，指定监控某文件，有变动则自动同步本地、远程仓库\n",
    "         2、常规使用，git的命令"
   ]
  }
 ],
 "metadata": {
  "kernelspec": {
   "display_name": "Python 3",
   "language": "python",
   "name": "python3"
  },
  "language_info": {
   "codemirror_mode": {
    "name": "ipython",
    "version": 3
   },
   "file_extension": ".py",
   "mimetype": "text/x-python",
   "name": "python",
   "nbconvert_exporter": "python",
   "pygments_lexer": "ipython3",
   "version": "3.5.2"
  }
 },
 "nbformat": 4,
 "nbformat_minor": 2
}
